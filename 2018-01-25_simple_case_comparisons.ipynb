{
 "cells": [
  {
   "cell_type": "markdown",
   "metadata": {},
   "source": [
    "# Comparing Impacts of Missing Data on Uniform and Lognormal Regressors"
   ]
  },
  {
   "cell_type": "code",
   "execution_count": 9,
   "metadata": {},
   "outputs": [],
   "source": [
    "from generator import *\n",
    "from shredder import *\n",
    "from fitter import *\n",
    "from fixer import *\n",
    "import matplotlib.pyplot as plt\n",
    "%matplotlib inline\n",
    "import numpy as np\n",
    "import pandas as pd\n",
    "from pandas.plotting import scatter_matrix\n",
    "#np.random.seed(10)\n"
   ]
  },
  {
   "cell_type": "markdown",
   "metadata": {},
   "source": [
    "# Generating regression data\n"
   ]
  },
  {
   "cell_type": "code",
   "execution_count": 99,
   "metadata": {},
   "outputs": [
    {
     "name": "stdout",
     "output_type": "stream",
     "text": [
      "1.2520841248298536e+53\n",
      "168.64825938804935\n"
     ]
    }
   ],
   "source": [
    "# Declare that there should be one X uniformly distributed between 0 and 100 with a coefficient of 5.\n",
    "\n",
    "\n",
    "x1_norm_clean_fit_data, x1_norm_test_data, x1_norm_coeffs = generate_ind_model(\n",
    "                                                        1, \n",
    "                                                        [x_def_helper('normal', coeff=6, loc=50, scale=28.7)],\n",
    "                                                        intercept=10, \n",
    "                                                        n=100, \n",
    "                                                        noise_factor=.05\n",
    "                                                    )\n",
    "\n",
    "x1_uniform_clean_fit_data, x1_uniform_test_data, x1_uniform_coeffs = generate_ind_model(\n",
    "                                                        1, \n",
    "                                                        [x_def_helper('uniform', coeff=6, low=0, high=100)],\n",
    "                                                        intercept=1000, \n",
    "                                                        n=100, \n",
    "                                                        noise_factor=.1\n",
    "                                                    )\n",
    "print(x1_lognorm_clean_fit_data['y'].std())\n",
    "print(x1_uniform_clean_fit_data['y'].std())"
   ]
  },
  {
   "cell_type": "markdown",
   "metadata": {},
   "source": [
    "### Initial EDA/Modeling"
   ]
  },
  {
   "cell_type": "code",
   "execution_count": 100,
   "metadata": {},
   "outputs": [
    {
     "data": {
      "text/plain": [
       "array([[<matplotlib.axes._subplots.AxesSubplot object at 0x116163320>,\n",
       "        <matplotlib.axes._subplots.AxesSubplot object at 0x11510bb70>],\n",
       "       [<matplotlib.axes._subplots.AxesSubplot object at 0x116234ba8>,\n",
       "        <matplotlib.axes._subplots.AxesSubplot object at 0x116168da0>]], dtype=object)"
      ]
     },
     "execution_count": 100,
     "metadata": {},
     "output_type": "execute_result"
    },
    {
     "data": {
      "image/png": "[encoded data removed]",
      "text/plain": [
       "<matplotlib.figure.Figure at 0x11627bf28>"
      ]
     },
     "metadata": {},
     "output_type": "display_data"
    },
    {
     "data": {
      "image/png": "[encoded data removed]",
      "text/plain": [
       "<matplotlib.figure.Figure at 0x1153f9cf8>"
      ]
     },
     "metadata": {},
     "output_type": "display_data"
    }
   ],
   "source": [
    "scatter_matrix(x1_uniform_clean_fit_data[['y', 'x1']])\n",
    "scatter_matrix(x1_lognorm_clean_fit_data[['y', 'x1']])"
   ]
  },
  {
   "cell_type": "markdown",
   "metadata": {},
   "source": [
    "### Part 1: Randomly Removing Values of `x1` and Dropping Respective Rows \n",
    "This is now performed for both the uniform and lognormal case"
   ]
  },
  {
   "cell_type": "code",
   "execution_count": 101,
   "metadata": {
    "collapsed": true
   },
   "outputs": [],
   "source": [
    "def run(fit_data, test_data, action_type, incr=.05,iters=50):\n",
    "    run_results = []\n",
    "    # Begin replication loop\n",
    "    for i in range(iters):\n",
    "        # Begin percent range loop\n",
    "        for pct in np.arange(0, 1, incr):\n",
    "\n",
    "            # Make a copy of the dataset so that we do not contaminate the memory\n",
    "            wrecked_data = fit_data.copy(deep=True)\n",
    "            \n",
    "            # Shred the data unless pct == 0\n",
    "            if pct != 0:\n",
    "                # Specify that we are shredding x1\n",
    "                uniform_shred_cols(['x1'], pct, wrecked_data)\n",
    "\n",
    "                if action_type == 'drop':\n",
    "                    fixed_data = wrecked_data.dropna()\n",
    "                elif action_type == 'fix':\n",
    "                    fixed_data = fix_cols({'x1': 'mean'}, wrecked_data)\n",
    "                else:\n",
    "                    raise ValueError(\"Invalid action_type: %s\" % action_type)\n",
    "            else:\n",
    "                fixed_data = wrecked_data\n",
    "                    \n",
    "            # Fit the model\n",
    "            w_fitted, w_metrics, = fit_lm(fixed_data, test_data)\n",
    "            \n",
    "            # Check if beta estimates are in the CI\n",
    "            b_estimate_results = beta_target_check(w_metrics, x1_uniform_coeffs, as_dataframe=True)\n",
    "\n",
    "            # Collect some results\n",
    "            run_results.append((pct,\n",
    "                                  w_fitted.nobs,\n",
    "                                  w_metrics['r2'],\n",
    "                                  w_metrics['r2_adj'],\n",
    "                                  w_metrics['bic'],\n",
    "                                  w_metrics['beta_ci']['x1']['range'],\n",
    "                                  b_estimate_results.loc['x1', :].values[0],\n",
    "                                  w_metrics['r2_pred'],\n",
    "                                  w_metrics['mse_pred']))\n",
    "\n",
    "\n",
    "    # Load the results into a Pandas Dataframe\n",
    "    results = pd.DataFrame(run_results, columns=['pct_missing', \n",
    "                                                      'nobs', \n",
    "                                                      'r2', \n",
    "                                                      'r2_adj',\n",
    "                                                      'bic', \n",
    "                                                      'beta_x1_rng',\n",
    "                                                      'beta_x1_target',\n",
    "                                                      'r2_pred', \n",
    "                                                      'mse'])\n",
    "    results_agg = results.copy()\n",
    "    results_agg = results_agg.groupby('pct_missing').mean()\n",
    "    results_agg.loc[:, 'action_type'] = action_type\n",
    "    \n",
    "    return results_agg, results"
   ]
  },
  {
   "cell_type": "code",
   "execution_count": 102,
   "metadata": {},
   "outputs": [],
   "source": [
    "#x1_uniform_results_fix_agg, x1_uniform_fix_results = run(x1_uniform_clean_fit_data, x1_uniform_test_data, 'fix', iters=100)\n",
    "\n",
    "x1_uniform_results_drop_agg, x1_uniform_drop_results = run(x1_uniform_clean_fit_data, x1_uniform_test_data, 'drop', iters=100)\n",
    "#x1_uniform_results = {'fix': x1_uniform_results_fix_agg, 'drop': x1_norm_results_drop_agg}\n",
    "\n",
    "\n",
    "# x1_uniform_results = {'fix': run(x1_uniform_clean_fit_data, x1_uniform_test_data, 'fix', iters=10),\n",
    "#                       'drop': run(x1_uniform_clean_fit_data, x1_uniform_test_data, 'drop', iters=10)\n",
    "#                      }"
   ]
  },
  {
   "cell_type": "code",
   "execution_count": 103,
   "metadata": {},
   "outputs": [
    {
     "data": {
      "text/html": [
       "<div>\n",
       "<style>\n",
       "    .dataframe thead tr:only-child th {\n",
       "        text-align: right;\n",
       "    }\n",
       "\n",
       "    .dataframe thead th {\n",
       "        text-align: left;\n",
       "    }\n",
       "\n",
       "    .dataframe tbody tr th {\n",
       "        vertical-align: top;\n",
       "    }\n",
       "</style>\n",
       "<table border=\"1\" class=\"dataframe\">\n",
       "  <thead>\n",
       "    <tr style=\"text-align: right;\">\n",
       "      <th></th>\n",
       "      <th>nobs</th>\n",
       "      <th>r2</th>\n",
       "      <th>r2_adj</th>\n",
       "      <th>bic</th>\n",
       "      <th>beta_x1_rng</th>\n",
       "      <th>beta_x1_target</th>\n",
       "      <th>r2_pred</th>\n",
       "      <th>mse</th>\n",
       "      <th>action_type</th>\n",
       "    </tr>\n",
       "    <tr>\n",
       "      <th>pct_missing</th>\n",
       "      <th></th>\n",
       "      <th></th>\n",
       "      <th></th>\n",
       "      <th></th>\n",
       "      <th></th>\n",
       "      <th></th>\n",
       "      <th></th>\n",
       "      <th></th>\n",
       "      <th></th>\n",
       "    </tr>\n",
       "  </thead>\n",
       "  <tbody>\n",
       "    <tr>\n",
       "      <th>0.00</th>\n",
       "      <td>100.0</td>\n",
       "      <td>0.875774</td>\n",
       "      <td>0.874507</td>\n",
       "      <td>1108.990479</td>\n",
       "      <td>0.884099</td>\n",
       "      <td>1.00</td>\n",
       "      <td>0.923768</td>\n",
       "      <td>2754.236870</td>\n",
       "      <td>drop</td>\n",
       "    </tr>\n",
       "    <tr>\n",
       "      <th>0.05</th>\n",
       "      <td>95.0</td>\n",
       "      <td>0.875834</td>\n",
       "      <td>0.874499</td>\n",
       "      <td>1053.624536</td>\n",
       "      <td>0.907415</td>\n",
       "      <td>1.00</td>\n",
       "      <td>0.923491</td>\n",
       "      <td>2764.243974</td>\n",
       "      <td>drop</td>\n",
       "    </tr>\n",
       "    <tr>\n",
       "      <th>0.10</th>\n",
       "      <td>90.0</td>\n",
       "      <td>0.876618</td>\n",
       "      <td>0.875216</td>\n",
       "      <td>998.166250</td>\n",
       "      <td>0.930624</td>\n",
       "      <td>1.00</td>\n",
       "      <td>0.923546</td>\n",
       "      <td>2762.228918</td>\n",
       "      <td>drop</td>\n",
       "    </tr>\n",
       "    <tr>\n",
       "      <th>0.15</th>\n",
       "      <td>85.0</td>\n",
       "      <td>0.875387</td>\n",
       "      <td>0.873885</td>\n",
       "      <td>943.545741</td>\n",
       "      <td>0.963034</td>\n",
       "      <td>1.00</td>\n",
       "      <td>0.923272</td>\n",
       "      <td>2772.159501</td>\n",
       "      <td>drop</td>\n",
       "    </tr>\n",
       "    <tr>\n",
       "      <th>0.20</th>\n",
       "      <td>80.0</td>\n",
       "      <td>0.874960</td>\n",
       "      <td>0.873357</td>\n",
       "      <td>887.799437</td>\n",
       "      <td>0.993739</td>\n",
       "      <td>1.00</td>\n",
       "      <td>0.922601</td>\n",
       "      <td>2796.393754</td>\n",
       "      <td>drop</td>\n",
       "    </tr>\n",
       "    <tr>\n",
       "      <th>0.25</th>\n",
       "      <td>75.0</td>\n",
       "      <td>0.875777</td>\n",
       "      <td>0.874075</td>\n",
       "      <td>832.824980</td>\n",
       "      <td>1.024584</td>\n",
       "      <td>1.00</td>\n",
       "      <td>0.922844</td>\n",
       "      <td>2787.599780</td>\n",
       "      <td>drop</td>\n",
       "    </tr>\n",
       "    <tr>\n",
       "      <th>0.30</th>\n",
       "      <td>70.0</td>\n",
       "      <td>0.878006</td>\n",
       "      <td>0.876212</td>\n",
       "      <td>775.906386</td>\n",
       "      <td>1.057821</td>\n",
       "      <td>0.99</td>\n",
       "      <td>0.923292</td>\n",
       "      <td>2771.415332</td>\n",
       "      <td>drop</td>\n",
       "    </tr>\n",
       "    <tr>\n",
       "      <th>0.35</th>\n",
       "      <td>65.0</td>\n",
       "      <td>0.876161</td>\n",
       "      <td>0.874195</td>\n",
       "      <td>722.038688</td>\n",
       "      <td>1.103207</td>\n",
       "      <td>0.99</td>\n",
       "      <td>0.922181</td>\n",
       "      <td>2811.563550</td>\n",
       "      <td>drop</td>\n",
       "    </tr>\n",
       "    <tr>\n",
       "      <th>0.40</th>\n",
       "      <td>60.0</td>\n",
       "      <td>0.874528</td>\n",
       "      <td>0.872364</td>\n",
       "      <td>667.170410</td>\n",
       "      <td>1.160725</td>\n",
       "      <td>0.99</td>\n",
       "      <td>0.922105</td>\n",
       "      <td>2814.316284</td>\n",
       "      <td>drop</td>\n",
       "    </tr>\n",
       "    <tr>\n",
       "      <th>0.45</th>\n",
       "      <td>55.0</td>\n",
       "      <td>0.875930</td>\n",
       "      <td>0.873589</td>\n",
       "      <td>611.441607</td>\n",
       "      <td>1.203902</td>\n",
       "      <td>0.98</td>\n",
       "      <td>0.921126</td>\n",
       "      <td>2849.675088</td>\n",
       "      <td>drop</td>\n",
       "    </tr>\n",
       "    <tr>\n",
       "      <th>0.50</th>\n",
       "      <td>50.0</td>\n",
       "      <td>0.879363</td>\n",
       "      <td>0.876849</td>\n",
       "      <td>555.463434</td>\n",
       "      <td>1.260234</td>\n",
       "      <td>0.98</td>\n",
       "      <td>0.922447</td>\n",
       "      <td>2801.935225</td>\n",
       "      <td>drop</td>\n",
       "    </tr>\n",
       "    <tr>\n",
       "      <th>0.55</th>\n",
       "      <td>45.0</td>\n",
       "      <td>0.875814</td>\n",
       "      <td>0.872926</td>\n",
       "      <td>500.894046</td>\n",
       "      <td>1.338842</td>\n",
       "      <td>0.97</td>\n",
       "      <td>0.920367</td>\n",
       "      <td>2877.084723</td>\n",
       "      <td>drop</td>\n",
       "    </tr>\n",
       "    <tr>\n",
       "      <th>0.60</th>\n",
       "      <td>40.0</td>\n",
       "      <td>0.874563</td>\n",
       "      <td>0.871262</td>\n",
       "      <td>445.308326</td>\n",
       "      <td>1.440181</td>\n",
       "      <td>0.98</td>\n",
       "      <td>0.918524</td>\n",
       "      <td>2943.703347</td>\n",
       "      <td>drop</td>\n",
       "    </tr>\n",
       "    <tr>\n",
       "      <th>0.65</th>\n",
       "      <td>35.0</td>\n",
       "      <td>0.876113</td>\n",
       "      <td>0.872359</td>\n",
       "      <td>389.593398</td>\n",
       "      <td>1.536799</td>\n",
       "      <td>0.96</td>\n",
       "      <td>0.917217</td>\n",
       "      <td>2990.928001</td>\n",
       "      <td>drop</td>\n",
       "    </tr>\n",
       "    <tr>\n",
       "      <th>0.70</th>\n",
       "      <td>30.0</td>\n",
       "      <td>0.875577</td>\n",
       "      <td>0.871133</td>\n",
       "      <td>334.713700</td>\n",
       "      <td>1.703241</td>\n",
       "      <td>0.99</td>\n",
       "      <td>0.918581</td>\n",
       "      <td>2941.622918</td>\n",
       "      <td>drop</td>\n",
       "    </tr>\n",
       "    <tr>\n",
       "      <th>0.75</th>\n",
       "      <td>25.0</td>\n",
       "      <td>0.883287</td>\n",
       "      <td>0.878212</td>\n",
       "      <td>278.508921</td>\n",
       "      <td>1.845008</td>\n",
       "      <td>0.96</td>\n",
       "      <td>0.918613</td>\n",
       "      <td>2940.463030</td>\n",
       "      <td>drop</td>\n",
       "    </tr>\n",
       "    <tr>\n",
       "      <th>0.80</th>\n",
       "      <td>20.0</td>\n",
       "      <td>0.866329</td>\n",
       "      <td>0.858903</td>\n",
       "      <td>224.138456</td>\n",
       "      <td>2.202016</td>\n",
       "      <td>0.95</td>\n",
       "      <td>0.912932</td>\n",
       "      <td>3145.742638</td>\n",
       "      <td>drop</td>\n",
       "    </tr>\n",
       "    <tr>\n",
       "      <th>0.85</th>\n",
       "      <td>15.0</td>\n",
       "      <td>0.877058</td>\n",
       "      <td>0.867601</td>\n",
       "      <td>166.485146</td>\n",
       "      <td>2.542613</td>\n",
       "      <td>0.96</td>\n",
       "      <td>0.908437</td>\n",
       "      <td>3308.137314</td>\n",
       "      <td>drop</td>\n",
       "    </tr>\n",
       "    <tr>\n",
       "      <th>0.90</th>\n",
       "      <td>10.0</td>\n",
       "      <td>0.876734</td>\n",
       "      <td>0.861326</td>\n",
       "      <td>110.365493</td>\n",
       "      <td>3.327552</td>\n",
       "      <td>0.94</td>\n",
       "      <td>0.899826</td>\n",
       "      <td>3619.244790</td>\n",
       "      <td>drop</td>\n",
       "    </tr>\n",
       "    <tr>\n",
       "      <th>0.95</th>\n",
       "      <td>5.0</td>\n",
       "      <td>0.865814</td>\n",
       "      <td>0.821086</td>\n",
       "      <td>53.098110</td>\n",
       "      <td>7.016591</td>\n",
       "      <td>0.90</td>\n",
       "      <td>0.844111</td>\n",
       "      <td>5632.206426</td>\n",
       "      <td>drop</td>\n",
       "    </tr>\n",
       "  </tbody>\n",
       "</table>\n",
       "</div>"
      ],
      "text/plain": [
       "              nobs        r2    r2_adj          bic  beta_x1_rng  \\\n",
       "pct_missing                                                        \n",
       "0.00         100.0  0.875774  0.874507  1108.990479     0.884099   \n",
       "0.05          95.0  0.875834  0.874499  1053.624536     0.907415   \n",
       "0.10          90.0  0.876618  0.875216   998.166250     0.930624   \n",
       "0.15          85.0  0.875387  0.873885   943.545741     0.963034   \n",
       "0.20          80.0  0.874960  0.873357   887.799437     0.993739   \n",
       "0.25          75.0  0.875777  0.874075   832.824980     1.024584   \n",
       "0.30          70.0  0.878006  0.876212   775.906386     1.057821   \n",
       "0.35          65.0  0.876161  0.874195   722.038688     1.103207   \n",
       "0.40          60.0  0.874528  0.872364   667.170410     1.160725   \n",
       "0.45          55.0  0.875930  0.873589   611.441607     1.203902   \n",
       "0.50          50.0  0.879363  0.876849   555.463434     1.260234   \n",
       "0.55          45.0  0.875814  0.872926   500.894046     1.338842   \n",
       "0.60          40.0  0.874563  0.871262   445.308326     1.440181   \n",
       "0.65          35.0  0.876113  0.872359   389.593398     1.536799   \n",
       "0.70          30.0  0.875577  0.871133   334.713700     1.703241   \n",
       "0.75          25.0  0.883287  0.878212   278.508921     1.845008   \n",
       "0.80          20.0  0.866329  0.858903   224.138456     2.202016   \n",
       "0.85          15.0  0.877058  0.867601   166.485146     2.542613   \n",
       "0.90          10.0  0.876734  0.861326   110.365493     3.327552   \n",
       "0.95           5.0  0.865814  0.821086    53.098110     7.016591   \n",
       "\n",
       "             beta_x1_target   r2_pred          mse action_type  \n",
       "pct_missing                                                     \n",
       "0.00                   1.00  0.923768  2754.236870        drop  \n",
       "0.05                   1.00  0.923491  2764.243974        drop  \n",
       "0.10                   1.00  0.923546  2762.228918        drop  \n",
       "0.15                   1.00  0.923272  2772.159501        drop  \n",
       "0.20                   1.00  0.922601  2796.393754        drop  \n",
       "0.25                   1.00  0.922844  2787.599780        drop  \n",
       "0.30                   0.99  0.923292  2771.415332        drop  \n",
       "0.35                   0.99  0.922181  2811.563550        drop  \n",
       "0.40                   0.99  0.922105  2814.316284        drop  \n",
       "0.45                   0.98  0.921126  2849.675088        drop  \n",
       "0.50                   0.98  0.922447  2801.935225        drop  \n",
       "0.55                   0.97  0.920367  2877.084723        drop  \n",
       "0.60                   0.98  0.918524  2943.703347        drop  \n",
       "0.65                   0.96  0.917217  2990.928001        drop  \n",
       "0.70                   0.99  0.918581  2941.622918        drop  \n",
       "0.75                   0.96  0.918613  2940.463030        drop  \n",
       "0.80                   0.95  0.912932  3145.742638        drop  \n",
       "0.85                   0.96  0.908437  3308.137314        drop  \n",
       "0.90                   0.94  0.899826  3619.244790        drop  \n",
       "0.95                   0.90  0.844111  5632.206426        drop  "
      ]
     },
     "execution_count": 103,
     "metadata": {},
     "output_type": "execute_result"
    }
   ],
   "source": [
    "x1_uniform_results_drop_agg\n",
    "#print(x1_lognorm_results_agg['fix'][['beta_x1_target']])|"
   ]
  },
  {
   "cell_type": "code",
   "execution_count": 58,
   "metadata": {},
   "outputs": [
    {
     "ename": "TypeError",
     "evalue": "string indices must be integers",
     "output_type": "error",
     "traceback": [
      "\u001b[0;31m---------------------------------------------------------------------------\u001b[0m",
      "\u001b[0;31mTypeError\u001b[0m                                 Traceback (most recent call last)",
      "\u001b[0;32m<ipython-input-58-1497698352bf>\u001b[0m in \u001b[0;36m<module>\u001b[0;34m()\u001b[0m\n\u001b[1;32m      1\u001b[0m \u001b[0mx1_uniform_results\u001b[0m \u001b[0;34m=\u001b[0m \u001b[0mx1_uniform_results\u001b[0m\u001b[0;34m\u001b[0m\u001b[0m\n\u001b[1;32m      2\u001b[0m \u001b[0mf\u001b[0m\u001b[0;34m,\u001b[0m \u001b[0maxarr\u001b[0m \u001b[0;34m=\u001b[0m \u001b[0mplt\u001b[0m\u001b[0;34m.\u001b[0m\u001b[0msubplots\u001b[0m\u001b[0;34m(\u001b[0m\u001b[0;36m4\u001b[0m\u001b[0;34m,\u001b[0m \u001b[0msharex\u001b[0m\u001b[0;34m=\u001b[0m\u001b[0;32mTrue\u001b[0m\u001b[0;34m,\u001b[0m \u001b[0mfigsize\u001b[0m\u001b[0;34m=\u001b[0m\u001b[0;34m(\u001b[0m\u001b[0;36m10\u001b[0m\u001b[0;34m,\u001b[0m\u001b[0;36m12\u001b[0m\u001b[0;34m)\u001b[0m\u001b[0;34m)\u001b[0m\u001b[0;34m\u001b[0m\u001b[0m\n\u001b[0;32m----> 3\u001b[0;31m \u001b[0maxarr\u001b[0m\u001b[0;34m[\u001b[0m\u001b[0;36m0\u001b[0m\u001b[0;34m]\u001b[0m\u001b[0;34m.\u001b[0m\u001b[0mplot\u001b[0m\u001b[0;34m(\u001b[0m\u001b[0mx1_uniform_results\u001b[0m\u001b[0;34m[\u001b[0m\u001b[0;34m'fix'\u001b[0m\u001b[0;34m]\u001b[0m\u001b[0;34m[\u001b[0m\u001b[0;34m[\u001b[0m\u001b[0;34m'r2_pred'\u001b[0m\u001b[0;34m]\u001b[0m\u001b[0;34m]\u001b[0m\u001b[0;34m,\u001b[0m \u001b[0mlabel\u001b[0m\u001b[0;34m=\u001b[0m\u001b[0;34m'imputed'\u001b[0m\u001b[0;34m)\u001b[0m\u001b[0;34m\u001b[0m\u001b[0m\n\u001b[0m\u001b[1;32m      4\u001b[0m \u001b[0maxarr\u001b[0m\u001b[0;34m[\u001b[0m\u001b[0;36m0\u001b[0m\u001b[0;34m]\u001b[0m\u001b[0;34m.\u001b[0m\u001b[0mplot\u001b[0m\u001b[0;34m(\u001b[0m\u001b[0mx1_uniform_results\u001b[0m\u001b[0;34m[\u001b[0m\u001b[0;34m'drop'\u001b[0m\u001b[0;34m]\u001b[0m\u001b[0;34m[\u001b[0m\u001b[0;34m[\u001b[0m\u001b[0;34m'r2_pred'\u001b[0m\u001b[0;34m]\u001b[0m\u001b[0;34m]\u001b[0m\u001b[0;34m,\u001b[0m \u001b[0mlabel\u001b[0m\u001b[0;34m=\u001b[0m\u001b[0;34m'dropped'\u001b[0m\u001b[0;34m)\u001b[0m\u001b[0;34m\u001b[0m\u001b[0m\n\u001b[1;32m      5\u001b[0m \u001b[0maxarr\u001b[0m\u001b[0;34m[\u001b[0m\u001b[0;36m0\u001b[0m\u001b[0;34m]\u001b[0m\u001b[0;34m.\u001b[0m\u001b[0mset_title\u001b[0m\u001b[0;34m(\u001b[0m\u001b[0;34m'r2_pred vs. % missing data'\u001b[0m\u001b[0;34m)\u001b[0m\u001b[0;34m\u001b[0m\u001b[0m\n",
      "\u001b[0;31mTypeError\u001b[0m: string indices must be integers"
     ]
    },
    {
     "data": {
      "image/png": "[encoded data removed]",
      "text/plain": [
       "<matplotlib.figure.Figure at 0x114f9ccf8>"
      ]
     },
     "metadata": {},
     "output_type": "display_data"
    }
   ],
   "source": [
    "x1_uniform_results = x1_uniform_results\n",
    "f, axarr = plt.subplots(4, sharex=True, figsize=(10,12))\n",
    "axarr[0].plot(x1_uniform_results['fix'][['r2_pred']], label='imputed')\n",
    "axarr[0].plot(x1_uniform_results['drop'][['r2_pred']], label='dropped')\n",
    "axarr[0].set_title('r2_pred vs. % missing data')\n",
    "\n",
    "axarr[1].plot(x1_uniform_results['fix'][['r2']], label='imputed')\n",
    "axarr[1].plot(x1_uniform_results['drop'][['r2']], label='dropped')\n",
    "axarr[1].set_title('r2 vs. % missing data')\n",
    "\n",
    "axarr[2].plot(x1_uniform_results['fix'][['beta_x1_target']], label='imputed')\n",
    "axarr[2].plot(x1_uniform_results['drop'][['beta_x1_target']], label='dropped')\n",
    "axarr[2].set_title('beta_x1_rng vs. % missing data')\n",
    "\n",
    "axarr[3].plot(x1_uniform_results['fix'][['mse']], label='imputed')\n",
    "axarr[3].plot(x1_uniform_results['drop'][['mse']], label='dropped')\n",
    "axarr[3].set_title('mse of prediction vs. % missing data')\n",
    "\n",
    "\n",
    "axarr[3].set_xlabel('% missing')\n",
    "plt.legend(shadow=True, fancybox=True)"
   ]
  },
  {
   "cell_type": "code",
   "execution_count": 137,
   "metadata": {},
   "outputs": [
    {
     "data": {
      "text/plain": [
       "<matplotlib.collections.PathCollection at 0x1156570f0>"
      ]
     },
     "execution_count": 137,
     "metadata": {},
     "output_type": "execute_result"
    },
    {
     "data": {
      "image/png": "[encoded data removed]",
      "text/plain": [
       "<matplotlib.figure.Figure at 0x116b1c4a8>"
      ]
     },
     "metadata": {},
     "output_type": "display_data"
    }
   ],
   "source": [
    "wrecked_data = x1_lognorm_clean_fit_data.copy(deep=True)\n",
    "wrecked_data = uniform_shred_cols(['x1'], .5, wrecked_data)\n",
    "\n",
    "fixed_data = fix_cols({'x1': 'mean'}, wrecked_data)\n",
    "ex_fitted, ex_metrics, = fit_lm(fixed_data, x1_uniform_test_data)\n",
    "\n",
    "\n",
    "fig = sm.graphics.abline_plot(model_results=ex_fitted)\n",
    "ax = fig.axes[0]\n",
    "ax.scatter(fixed_data['x1'], fixed_data['y'])"
   ]
  },
  {
   "cell_type": "code",
   "execution_count": 138,
   "metadata": {},
   "outputs": [
    {
     "data": {
      "text/plain": [
       "<matplotlib.collections.PathCollection at 0x11554f9e8>"
      ]
     },
     "execution_count": 138,
     "metadata": {},
     "output_type": "execute_result"
    },
    {
     "data": {
      "image/png": "[encoded data removed]",
      "text/plain": [
       "<matplotlib.figure.Figure at 0x1166591d0>"
      ]
     },
     "metadata": {},
     "output_type": "display_data"
    }
   ],
   "source": [
    "wrecked_data = x1_uniform_clean_fit_data.copy(deep=True)\n",
    "wrecked_data = uniform_shred_cols(['x1'], .5, wrecked_data)\n",
    "\n",
    "fixed_data = fix_cols({'x1': 'mean'}, wrecked_data)\n",
    "ex_fitted, ex_metrics, = fit_lm(fixed_data, x1_uniform_test_data)\n",
    "\n",
    "\n",
    "fig = sm.graphics.abline_plot(model_results=ex_fitted)\n",
    "ax = fig.axes[0]\n",
    "ax.scatter(fixed_data['x1'], fixed_data['y'])"
   ]
  },
  {
   "cell_type": "markdown",
   "metadata": {},
   "source": []
  }
 ],
 "metadata": {
  "kernelspec": {
   "display_name": "Python 3",
   "language": "python",
   "name": "python3"
  },
  "language_info": {
   "codemirror_mode": {
    "name": "ipython",
    "version": 3
   },
   "file_extension": ".py",
   "mimetype": "text/x-python",
   "name": "python",
   "nbconvert_exporter": "python",
   "pygments_lexer": "ipython3",
   "version": "3.6.2"
  }
 },
 "nbformat": 4,
 "nbformat_minor": 1
}
